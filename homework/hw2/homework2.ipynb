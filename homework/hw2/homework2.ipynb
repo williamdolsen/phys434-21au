{
 "cells": [
  {
   "cell_type": "markdown",
   "id": "fe11654b-62dc-42b7-94ba-8dd2c2be2d06",
   "metadata": {},
   "source": [
    "# Homework 2\n",
    "## William Olsen\n",
    "\n",
    "### Question 1\n",
    "\n",
    "A little introductory brain teaser. Which is more probable when rolling 2 six-sided dice: rolling snake eyes (two ones) or rolling sevens (dice sum to seven)? What is the ratio of the probabilities?"
   ]
  },
  {
   "cell_type": "markdown",
   "id": "1f6ae811-4138-458c-a65a-f922a149d920",
   "metadata": {},
   "source": [
    "There are $6*6$ total combinations for the rolls of two six sided dice.  There is only one way to get snake eyes (rolling a one on each dice) compared to many ways to roll a seven.\n",
    "\n",
    "Rolling a seven: 1/6, 2/5, 3/4, 4/3, 5/2, 6/1 - thus there are 6 ways to roll a seven.\n",
    "\n",
    "$$\\text{P(snake eyes)} = \\frac{1}{36} = 0.0278$$\n",
    "\n",
    "$$\\text{P(seven)} = \\frac{6}{36} = 0.167$$\n",
    "\n",
    "Their ratio: $\\frac{\\frac{1}{36}}{\\frac{6}{36}} = \\frac{1}{6} = 0.167$"
   ]
  },
  {
   "cell_type": "markdown",
   "id": "09ecd9ec-a87d-447e-a4c6-c1cdbe523038",
   "metadata": {},
   "source": [
    "### Question 2\n",
    "\n",
    "Following what we did in class show how to use the convolution operator to determine the probability of the sum of 2 six sided dice. Do both analytically (math & counting) and numerically (computer program). Beware the implicit definition of the values (x-axis on histogram)."
   ]
  },
  {
   "cell_type": "code",
   "execution_count": null,
   "id": "167dc3f7-6f65-4f9e-8594-0a0bf144c985",
   "metadata": {},
   "outputs": [],
   "source": []
  },
  {
   "cell_type": "markdown",
   "id": "29184b34-7976-4927-bba4-c11a4c34a4e4",
   "metadata": {},
   "source": [
    "### Question 3\n",
    "\n",
    "Calculate the mean and the variance of the distribution in problem 2. Hint: this is surprisingly tricky, make sure your result makes sense."
   ]
  },
  {
   "cell_type": "code",
   "execution_count": null,
   "id": "e7de674f-766d-4c49-91f3-ab722bc7be4b",
   "metadata": {},
   "outputs": [],
   "source": []
  },
  {
   "cell_type": "markdown",
   "id": "81435c34-173b-4074-b03a-19bcdfdf3e72",
   "metadata": {},
   "source": [
    "### Question 4\n",
    "\n",
    "Repeat 2, and graph the average of 10 dice. Is this is a Gaussian distribution? Explain in depth."
   ]
  },
  {
   "cell_type": "code",
   "execution_count": null,
   "id": "a0d0d9ce-195f-425b-9a0b-8779372b1080",
   "metadata": {},
   "outputs": [],
   "source": []
  },
  {
   "cell_type": "markdown",
   "id": "9fb5f2fa-803d-481a-9c0b-bd19ee916b45",
   "metadata": {},
   "source": [
    "### Question 5\n",
    "\n",
    "Show that the sum and average of an initially Gaussian distribution is also a Guassian (can be analytic or numerical). How does the standard deviation of the resulting sum or average Guassian change? This is a hugely important result. Explore what this means for integrating a signal over time."
   ]
  },
  {
   "cell_type": "code",
   "execution_count": null,
   "id": "274ddd93-d2c5-4501-bbb5-85cd2bb4f26c",
   "metadata": {},
   "outputs": [],
   "source": []
  },
  {
   "cell_type": "code",
   "execution_count": null,
   "id": "7e64b154-2ea5-4427-b098-891673deee30",
   "metadata": {},
   "outputs": [],
   "source": []
  }
 ],
 "metadata": {
  "kernelspec": {
   "display_name": "Python 3",
   "language": "python",
   "name": "python3"
  },
  "language_info": {
   "codemirror_mode": {
    "name": "ipython",
    "version": 3
   },
   "file_extension": ".py",
   "mimetype": "text/x-python",
   "name": "python",
   "nbconvert_exporter": "python",
   "pygments_lexer": "ipython3",
   "version": "3.8.8"
  }
 },
 "nbformat": 4,
 "nbformat_minor": 5
}
