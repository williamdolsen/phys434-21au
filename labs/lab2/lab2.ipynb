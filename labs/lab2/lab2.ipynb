{
 "cells": [
  {
   "cell_type": "markdown",
   "id": "22129fbf-2533-449f-a5d0-e88c7d5d9f24",
   "metadata": {},
   "source": [
    "# Lab 2 - Probabilities, Distributions, and Statistical Questions\n",
    "## William Olsen, partners with Jennifer Vo\n",
    "\n",
    "In this lab we will become more familiar with probabilites, distributions, and statistical questions"
   ]
  },
  {
   "cell_type": "markdown",
   "id": "3ae90af2-43af-44c1-9e2f-3bd7c1d64ca4",
   "metadata": {},
   "source": [
    "## Problem 1\n",
    "\n",
    "For this problem lets consier that we are looking for gamma-ray sources.  These sources are being detected by a telescope pointed off into space.  In outer space we have the cosmic background radiation which will be the background distribution for our telescope which we are using to detect gamma-ray sources.  This cosmic background happens to be modeled by precisely the Poisson distribution.  Now we would like to ask the following question regarding our background gamma-ray sources:\n",
    "\n",
    "> What is the probability that cosmic-ray background would have provided us with a measurement signal-like or more than our actual signal?\n",
    "\n",
    "For this problem we will assume that in a single day the average number of background cosmic-rays is 5.2 while the average number of gamma-rays is emitted by our hypothetical source is 7.7.\n",
    "\n",
    "### Part A\n",
    "\n",
    "Let us first observe how the probability distribution of the background varies as we integrate (or sum) for more days."
   ]
  },
  {
   "cell_type": "code",
   "execution_count": null,
   "id": "96c93729-1a43-4bb3-b559-84dc07ba41e0",
   "metadata": {},
   "outputs": [],
   "source": []
  },
  {
   "cell_type": "markdown",
   "id": "584e9732-c824-40fa-b2e1-5dcb07829e07",
   "metadata": {},
   "source": [
    "\n",
    "### Part B\n"
   ]
  },
  {
   "cell_type": "code",
   "execution_count": null,
   "id": "fee00031-7dd3-431d-a11e-83b478e6f969",
   "metadata": {},
   "outputs": [],
   "source": []
  },
  {
   "cell_type": "markdown",
   "id": "fcabeab2-1f92-4a69-9917-e6bf8287876f",
   "metadata": {},
   "source": [
    "\n",
    "### Part C\n"
   ]
  },
  {
   "cell_type": "code",
   "execution_count": null,
   "id": "c4d18221-c761-4955-8e4b-e99ed9d785d0",
   "metadata": {},
   "outputs": [],
   "source": []
  },
  {
   "cell_type": "markdown",
   "id": "3ff0a736-7fa4-4fbf-8149-8303c3383eeb",
   "metadata": {},
   "source": [
    "\n",
    "### Part D\n"
   ]
  },
  {
   "cell_type": "code",
   "execution_count": null,
   "id": "f27564c6-9733-4a97-97dd-cea014f9a0e1",
   "metadata": {},
   "outputs": [],
   "source": []
  },
  {
   "cell_type": "markdown",
   "id": "2db76e7b-e053-4c1d-8463-7284c5ed9644",
   "metadata": {},
   "source": [
    "## Problem 2"
   ]
  },
  {
   "cell_type": "code",
   "execution_count": null,
   "id": "25a51d78-3d46-45a5-98d8-752523e1eb30",
   "metadata": {},
   "outputs": [],
   "source": []
  },
  {
   "cell_type": "code",
   "execution_count": null,
   "id": "54941a8d-91de-4c2b-a0f7-58cf71515de8",
   "metadata": {},
   "outputs": [],
   "source": []
  },
  {
   "cell_type": "code",
   "execution_count": null,
   "id": "963ac14e-4ec0-4fd8-9f83-715e1c9c9fe6",
   "metadata": {},
   "outputs": [],
   "source": []
  },
  {
   "cell_type": "markdown",
   "id": "5a854b1d-2e3f-4c6a-b476-53b32dc994f4",
   "metadata": {},
   "source": [
    "## Problem 3"
   ]
  },
  {
   "cell_type": "code",
   "execution_count": null,
   "id": "68537209-3d69-4493-83e4-d9432143e12c",
   "metadata": {},
   "outputs": [],
   "source": []
  },
  {
   "cell_type": "code",
   "execution_count": null,
   "id": "b8556c6b-b237-4d32-b6a7-3e08081d614f",
   "metadata": {},
   "outputs": [],
   "source": []
  },
  {
   "cell_type": "code",
   "execution_count": null,
   "id": "a6400983-7267-4a04-8906-b8c2892d014c",
   "metadata": {},
   "outputs": [],
   "source": []
  },
  {
   "cell_type": "markdown",
   "id": "2d1f2ef8-373c-4b5e-b8f3-4b7ed0d9dc58",
   "metadata": {},
   "source": [
    "## Problem 4"
   ]
  },
  {
   "cell_type": "code",
   "execution_count": null,
   "id": "2b8b7543-b347-4f9e-83f8-d85beded81fc",
   "metadata": {},
   "outputs": [],
   "source": []
  },
  {
   "cell_type": "code",
   "execution_count": null,
   "id": "c5ed4294-5256-411f-98c1-292d51d5cff8",
   "metadata": {},
   "outputs": [],
   "source": []
  },
  {
   "cell_type": "code",
   "execution_count": null,
   "id": "3e56f29b-d5fb-408e-a46a-0383b1554c67",
   "metadata": {},
   "outputs": [],
   "source": []
  }
 ],
 "metadata": {
  "kernelspec": {
   "display_name": "Python 3",
   "language": "python",
   "name": "python3"
  },
  "language_info": {
   "codemirror_mode": {
    "name": "ipython",
    "version": 3
   },
   "file_extension": ".py",
   "mimetype": "text/x-python",
   "name": "python",
   "nbconvert_exporter": "python",
   "pygments_lexer": "ipython3",
   "version": "3.8.8"
  }
 },
 "nbformat": 4,
 "nbformat_minor": 5
}
