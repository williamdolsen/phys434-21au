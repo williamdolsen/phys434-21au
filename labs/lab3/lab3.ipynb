{
 "cells": [
  {
   "cell_type": "markdown",
   "id": "ae0fd0fa-35bf-4d66-8eff-57dd6ef2358d",
   "metadata": {},
   "source": [
    "# Lab 3: Asking a Statistical Question\n",
    "\n",
    "## William Olsen, partners with Jennifer Vo\n",
    "\n",
    "Within this report we will be focusing on how to ask a statistical question.  Asking and answering a statistical question is generally requires the following three steps:\n",
    "\n",
    "1) Writing down in words _precisely_ what question we are trying to ask.\n",
    "2) Translating the precise english into a mathematical expression.  Often containing the PDF of the background - determining of which can be considered a substep of this step.  Then evaltating the integral.\n",
    "3) Converting the probability from the previous step into a sigma.\n",
    "\n",
    "In this lab we will presume that we know the background distribution and will focus on asking the statistical question and getting the correct results in a clear manor."
   ]
  },
  {
   "cell_type": "markdown",
   "id": "11944019-42e2-458c-acc3-68eb08724fb7",
   "metadata": {},
   "source": [
    "## Problem 1\n",
    "\n"
   ]
  },
  {
   "cell_type": "code",
   "execution_count": null,
   "id": "3a953780-0ea1-45a5-99f4-c9582c40a1cc",
   "metadata": {},
   "outputs": [],
   "source": []
  },
  {
   "cell_type": "code",
   "execution_count": null,
   "id": "aa9382e6-e1f0-442a-944d-cb38a96ea087",
   "metadata": {},
   "outputs": [],
   "source": []
  },
  {
   "cell_type": "code",
   "execution_count": null,
   "id": "e9c3f9bd-fe0c-476c-929e-455c1ab27046",
   "metadata": {},
   "outputs": [],
   "source": []
  },
  {
   "cell_type": "code",
   "execution_count": null,
   "id": "82c7e4e4-6b8e-4aae-944d-f1b4f42eeec3",
   "metadata": {},
   "outputs": [],
   "source": []
  },
  {
   "cell_type": "code",
   "execution_count": null,
   "id": "d3b33443-9564-41d1-a4ee-5bf11df17f44",
   "metadata": {},
   "outputs": [],
   "source": []
  },
  {
   "cell_type": "code",
   "execution_count": null,
   "id": "e3d2517c-cd86-4900-b8a2-0269c6612e06",
   "metadata": {},
   "outputs": [],
   "source": []
  }
 ],
 "metadata": {
  "kernelspec": {
   "display_name": "Python 3",
   "language": "python",
   "name": "python3"
  },
  "language_info": {
   "codemirror_mode": {
    "name": "ipython",
    "version": 3
   },
   "file_extension": ".py",
   "mimetype": "text/x-python",
   "name": "python",
   "nbconvert_exporter": "python",
   "pygments_lexer": "ipython3",
   "version": "3.8.8"
  }
 },
 "nbformat": 4,
 "nbformat_minor": 5
}
