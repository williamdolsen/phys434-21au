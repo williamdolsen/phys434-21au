{
 "cells": [
  {
   "cell_type": "markdown",
   "id": "6497705b-2278-47c7-9a84-53d4e58b6d13",
   "metadata": {},
   "source": [
    "# Lab 5 - The LHC Particle Physics Dataset\n",
    "\n",
    "## William Olsen, partners with Jennifer Vo\n",
    "\n"
   ]
  },
  {
   "cell_type": "code",
   "execution_count": null,
   "id": "745e89d3-f44f-444a-8679-cfb9418aa3e4",
   "metadata": {},
   "outputs": [],
   "source": []
  }
 ],
 "metadata": {
  "kernelspec": {
   "display_name": "Python 3",
   "language": "python",
   "name": "python3"
  },
  "language_info": {
   "codemirror_mode": {
    "name": "ipython",
    "version": 3
   },
   "file_extension": ".py",
   "mimetype": "text/x-python",
   "name": "python",
   "nbconvert_exporter": "python",
   "pygments_lexer": "ipython3",
   "version": "3.8.8"
  }
 },
 "nbformat": 4,
 "nbformat_minor": 5
}
